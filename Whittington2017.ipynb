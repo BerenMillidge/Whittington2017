{
  "nbformat": 4,
  "nbformat_minor": 0,
  "metadata": {
    "colab": {
      "name": "Whittington2017.ipynb",
      "provenance": [],
      "collapsed_sections": []
    },
    "kernelspec": {
      "name": "python3",
      "display_name": "Python 3"
    }
  },
  "cells": [
    {
      "cell_type": "code",
      "metadata": {
        "id": "x6FrWg8hDgF-",
        "colab_type": "code",
        "colab": {}
      },
      "source": [
        ""
      ],
      "execution_count": 0,
      "outputs": []
    },
    {
      "cell_type": "markdown",
      "metadata": {
        "id": "krKPpi6KHhI-",
        "colab_type": "text"
      },
      "source": [
        "# Learn ANN"
      ]
    },
    {
      "cell_type": "code",
      "metadata": {
        "id": "EKMiZYyGHjmM",
        "colab_type": "code",
        "colab": {}
      },
      "source": [
        "# learning ANN file from the matlab\n",
        "def learn_ann(inp, out, w,b,params):\n",
        "  a = params.N_layers -1\n",
        "  iterations =len(inp)\n",
        "  for its in range(iterations):\n",
        "    x = [[] for i in range(params.N_layers)]\n",
        "    d = [[] for i in range(params.N_layers)]\n",
        "    grad_b = [[] for i in range(params.N_layers)]\n",
        "    grad_w = [[] for i in range(params.N_layers)]\n",
        "    # start organising the data properly into these silly cell arrays\n",
        "    x[0] = inp[:,its]\n",
        "    x_out = out[:,its]\n",
        "    # make a prediction\n",
        "    for i in range(1,params.N_layers):\n",
        "      x[i] = np.dot(w[i-1], params.act_fn) + b[i-1]\n",
        "\n",
        "    # backprop errors\n",
        "    d[params.N_layers] = x_out - x[params.N_layers]\n",
        "    for i in reversed(range(1,params.N_layers-1)):\n",
        "      d[i] = np.dor(w[i].T, d[i+1]) * params.act_fn_deriv(x[i])\n",
        "    \n",
        "    # find gradients\n",
        "    for i in range(a):\n",
        "      grad_b[i] = d[i+1]\n",
        "      grad_w[i] = np.dot(d[i+1], params.act_fn(x[i]).T) - (params.weight_decay_rate * w[i])\n",
        "\n",
        "    # update weights\n",
        "    for i in range(a):\n",
        "      w[i] = w[i] + params.learning_rate * grad_w[i]\n",
        "      b[i] = b[i] + params.learning_rate * grad_b[i]\n",
        "\n",
        "  return w,b"
      ],
      "execution_count": 0,
      "outputs": []
    },
    {
      "cell_type": "markdown",
      "metadata": {
        "id": "va0lWCOGLxjO",
        "colab_type": "text"
      },
      "source": [
        "# Learn PC"
      ]
    },
    {
      "cell_type": "code",
      "metadata": {
        "id": "7qQLaglSLzSz",
        "colab_type": "code",
        "colab": {}
      },
      "source": [
        "def learn_pc(inp, out, w,b,params):\n",
        "  v_out = params.var[-1]\n",
        "  a = params.N_layers -1\n",
        "  iterations = len(inp)\n",
        "  for its in range(iterations):\n",
        "    x = [[] for i in range(params.N_layers)]\n",
        "    grad_b = [[] for i in range(params.N_layers)]\n",
        "    grad_w = [[] for i in range(params.N_layers)]\n",
        "    #organize data into cell arrays\n",
        "    x[0] = inp[:, its]\n",
        "    x_out = out[:,its]\n",
        "    #make prediciton\n",
        "    for i in range(1,params.N_layers):\n",
        "      x[i] = np.dot(w[i-1], params.act_fn(x[i-1])) + b[i-1]\n",
        "    \n",
        "    #infer\n",
        "    x[params.N_layers] = x_out\n",
        "    x,es,i = infer_pc(x,w,b,params)\n",
        "    #calculate gradients\n",
        "    for i in range(a):\n",
        "      grad_b[i] = v_out * e[i+1]\n",
        "      grad_w[i] = v_out * np.dot(e[i+1], params.act_fn(x[i]).T) - params.weight_decay_rate * w[i]\n",
        "    \n",
        "    #update weights\n",
        "    for i in range(a):\n",
        "      w[i] = w[i]+ params.learning_rate * grad_w[i]\n",
        "      b[i] = b[i] + params.learning_rate * grad_b[i]\n",
        "\n",
        "  return w,b\n"
      ],
      "execution_count": 0,
      "outputs": []
    },
    {
      "cell_type": "markdown",
      "metadata": {
        "id": "Ezkb9hu6FZsD",
        "colab_type": "text"
      },
      "source": [
        "# Infer PC"
      ]
    },
    {
      "cell_type": "code",
      "metadata": {
        "id": "ugW11sa9Fdxg",
        "colab_type": "code",
        "colab": {}
      },
      "source": [
        "def infer_pc(x,w,b,params):\n",
        "  # initialize prediction errors\n",
        "  es = [np.zeros([n,1]) for n in params.neurons]\n",
        "  act_fn = params.act_fn\n",
        "  act_fn_deriv = params.act_fn_deriv\n",
        "  # calculate initial layers\n",
        "  for i in range(1,params.N_layers):\n",
        "    e[i] = (x[i] - np.dot(w[i-1], act_fn(x[i-1])) - b[i-1]) / params.var[i]\n",
        "  \n",
        "  #update variable nodes\n",
        "  for j in range(params.n_iterations):\n",
        "    for i in range(1,params.N_layers-1):\n",
        "      g = np.dot(w[i].T * e[i+1]) * act_fn_deriv(x[i])\n",
        "      x[i] = x[i] + params.beta * (-e[i] + g)\n",
        "    \n",
        "    # calculate errors\n",
        "    for i in range(1,params.N-layers):\n",
        "      e[i] = (x[i] - np.dot(w[i-1], act_fn(x[i-1]) - b[i]))/var[i]\n",
        "\n",
        "  return x, es, i\n",
        "\n"
      ],
      "execution_count": 0,
      "outputs": []
    },
    {
      "cell_type": "markdown",
      "metadata": {
        "id": "97wmA7s8N9q6",
        "colab_type": "text"
      },
      "source": [
        "# Initialization"
      ]
    },
    {
      "cell_type": "code",
      "metadata": {
        "id": "M5KI7DXyN_VO",
        "colab_type": "code",
        "colab": {}
      },
      "source": [
        "def w_init(params):\n",
        "  w = [[] for i in range(params.N_layers)]\n",
        "  b = [[] for i in range(params.N_layers)]\n",
        "  neurons = params.neurons\n",
        "  \n",
        "  for i in range(params.N_layers-1):\n",
        "    norm_b = 0\n",
        "    if params.act_fn_type == \"linear\":\n",
        "      norm_w = np.sqrt(1/(neurons[i+1] + neurons[i]))\n",
        "    if params.act_fn_type =='tanh':\n",
        "      norm_w = np.sqrt(6/(neurons[i+1] + neurons[i]))\n",
        "    if params.act_fn_type == 'sigmoid':\n",
        "      norm_w = 4 * np.sqrt(6/(neurons[i+1] + neurons[i]))\n",
        "    if params.act_fn_type =='relu':\n",
        "      norm_w = np.sqrt(1/(neurons[i+1] + neurons[i]))\n",
        "      norm_b = 0.1\n",
        "    w[i] = np.random.uniform(low=-1, high=1, size=(neurons[i+1], neurons[i])) * norm_w\n",
        "    b[i] = np.ones((neurons[i+1],neurons[i])) * norm_b\n",
        "  return w,b\n"
      ],
      "execution_count": 0,
      "outputs": []
    },
    {
      "cell_type": "markdown",
      "metadata": {
        "id": "dxQ4LVBHVuTh",
        "colab_type": "text"
      },
      "source": [
        "# Test"
      ]
    },
    {
      "cell_type": "code",
      "metadata": {
        "id": "q8Cjp26-VvkN",
        "colab_type": "code",
        "colab": {}
      },
      "source": [
        "def test(inp, out, w,b,params):\n",
        "  iterations = len(inp)\n",
        "  x_output = np.zeros(out.shape)\n",
        "  x = [[] for i in range(params.N_layers)]\n",
        "  for its in range(iterations):\n",
        "    #make prediction\n",
        "    x[0] = inp[:,its]\n",
        "    for i in range(1,params.N_layers):\n",
        "      x[i] = np.dot(w[i-1], params.act_fn(x[i-1])) + b[i-1]\n",
        "    x_output[:,its] = x[params.N_layers]\n",
        "  return rmse(out, x_output)\n"
      ],
      "execution_count": 0,
      "outputs": []
    },
    {
      "cell_type": "markdown",
      "metadata": {
        "id": "LkG1rv9TDiL6",
        "colab_type": "text"
      },
      "source": [
        "# Activation Functions"
      ]
    },
    {
      "cell_type": "code",
      "metadata": {
        "id": "sLGAG8oSDkSC",
        "colab_type": "code",
        "colab": {}
      },
      "source": [
        "def linear(xs):\n",
        "  return xs\n",
        "\n",
        "def linearderiv(xs):\n",
        "  return np.ones((len(xs),1))\n",
        "\n",
        "def tanh(xs):\n",
        "  return np.tanh(xs)\n",
        "  \n",
        "def tanhderiv(xs):\n",
        "  return 1 - np.tanh(xs) **2\n",
        "\n",
        "def relu(xs):\n",
        "    return np.maximum(xs,0,xs)\n",
        "\n",
        "def reluderiv(xs):\n",
        "    rel = relu(xs)\n",
        "    rel[rel>0] = 1\n",
        "    return rel\n",
        "\n",
        "def rmse(y,f):\n",
        "  return np.sqrt(np.mean((y.reshape((-1)) - f.reshape((-1)))**2 ))\n"
      ],
      "execution_count": 0,
      "outputs": []
    },
    {
      "cell_type": "code",
      "metadata": {
        "id": "2xVUrqqsBhfC",
        "colab_type": "code",
        "colab": {
          "base_uri": "https://localhost:8080/",
          "height": 334
        },
        "outputId": "304e2d82-2b0d-469c-dcf8-25237235cd1a"
      },
      "source": [
        "# whittington 2017 code copying/transpiling manually into python!\n",
        "# I'm slowly getting this done, and although it looks SUPER simple, looks like to be good for getting the hang of whittingtons code. That was quite a boring hour spent doing this...\n",
        "#but nearly done to be honest... so that's good\n",
        "\n",
        "import numpy as np\n",
        "\n",
        "class Params(object):\n",
        "  def __init__(self):\n",
        "    self.act_fn = tanh\n",
        "    self.act_fn_type='tanh'\n",
        "    self.learning_rate = 0.2\n",
        "    self.n_iterations = 100\n",
        "    self.epochs = 500\n",
        "    self.weight_decay_rate = 0\n",
        "    self.beta = 0.2\n",
        "    self.neurons = [2,5,1]\n",
        "    self.N_layers = len(neurons)\n",
        "    self.var = np.ones([1, N_layers])\n",
        "    self.var[-1] = 10\n",
        "\n",
        "\n",
        "params = Params()\n",
        "\n",
        "sin = np.array([[0,0,1,1],[0,1,0,1]])\n",
        "sout = np.array([1,0,0,1])\n",
        "\n",
        "\n",
        "plot_every = 50\n",
        "run_num = 4\n",
        "\n",
        "for run in range(run_num):\n",
        "  w_pc, b_pc = w_init(params)\n",
        "  w_ann = w_pc\n",
        "  b_ann = b_pc\n",
        "  counter = 1\n",
        "  error_pc = test(sin,sout, w_pc, b_pc, params)\n",
        "  error_ann = test(sin, sout, w_ann, b_ann, params)\n"
      ],
      "execution_count": 44,
      "outputs": [
        {
          "output_type": "error",
          "ename": "ValueError",
          "evalue": "ignored",
          "traceback": [
            "\u001b[0;31m---------------------------------------------------------------------------\u001b[0m",
            "\u001b[0;31mValueError\u001b[0m                                Traceback (most recent call last)",
            "\u001b[0;32m<ipython-input-44-13769454e7c0>\u001b[0m in \u001b[0;36m<module>\u001b[0;34m()\u001b[0m\n\u001b[1;32m     31\u001b[0m   \u001b[0mb_ann\u001b[0m \u001b[0;34m=\u001b[0m \u001b[0mb_pc\u001b[0m\u001b[0;34m\u001b[0m\u001b[0;34m\u001b[0m\u001b[0m\n\u001b[1;32m     32\u001b[0m   \u001b[0mcounter\u001b[0m \u001b[0;34m=\u001b[0m \u001b[0;36m1\u001b[0m\u001b[0;34m\u001b[0m\u001b[0;34m\u001b[0m\u001b[0m\n\u001b[0;32m---> 33\u001b[0;31m   \u001b[0merror_pc\u001b[0m \u001b[0;34m=\u001b[0m \u001b[0mtest\u001b[0m\u001b[0;34m(\u001b[0m\u001b[0msin\u001b[0m\u001b[0;34m,\u001b[0m\u001b[0msout\u001b[0m\u001b[0;34m,\u001b[0m \u001b[0mw_pc\u001b[0m\u001b[0;34m,\u001b[0m \u001b[0mb_pc\u001b[0m\u001b[0;34m,\u001b[0m \u001b[0mparams\u001b[0m\u001b[0;34m)\u001b[0m\u001b[0;34m\u001b[0m\u001b[0;34m\u001b[0m\u001b[0m\n\u001b[0m\u001b[1;32m     34\u001b[0m   \u001b[0merror_ann\u001b[0m \u001b[0;34m=\u001b[0m \u001b[0mtest\u001b[0m\u001b[0;34m(\u001b[0m\u001b[0msin\u001b[0m\u001b[0;34m,\u001b[0m \u001b[0msout\u001b[0m\u001b[0;34m,\u001b[0m \u001b[0mw_ann\u001b[0m\u001b[0;34m,\u001b[0m \u001b[0mb_ann\u001b[0m\u001b[0;34m,\u001b[0m \u001b[0mparams\u001b[0m\u001b[0;34m)\u001b[0m\u001b[0;34m\u001b[0m\u001b[0;34m\u001b[0m\u001b[0m\n",
            "\u001b[0;32m<ipython-input-34-7d8d16b28f12>\u001b[0m in \u001b[0;36mtest\u001b[0;34m(inp, out, w, b, params)\u001b[0m\n\u001b[1;32m      7\u001b[0m     \u001b[0mx\u001b[0m\u001b[0;34m[\u001b[0m\u001b[0;36m0\u001b[0m\u001b[0;34m]\u001b[0m \u001b[0;34m=\u001b[0m \u001b[0minp\u001b[0m\u001b[0;34m[\u001b[0m\u001b[0;34m:\u001b[0m\u001b[0;34m,\u001b[0m\u001b[0mits\u001b[0m\u001b[0;34m]\u001b[0m\u001b[0;34m\u001b[0m\u001b[0;34m\u001b[0m\u001b[0m\n\u001b[1;32m      8\u001b[0m     \u001b[0;32mfor\u001b[0m \u001b[0mi\u001b[0m \u001b[0;32min\u001b[0m \u001b[0mrange\u001b[0m\u001b[0;34m(\u001b[0m\u001b[0;36m1\u001b[0m\u001b[0;34m,\u001b[0m\u001b[0mparams\u001b[0m\u001b[0;34m.\u001b[0m\u001b[0mN_layers\u001b[0m\u001b[0;34m)\u001b[0m\u001b[0;34m:\u001b[0m\u001b[0;34m\u001b[0m\u001b[0;34m\u001b[0m\u001b[0m\n\u001b[0;32m----> 9\u001b[0;31m       \u001b[0mx\u001b[0m\u001b[0;34m[\u001b[0m\u001b[0mi\u001b[0m\u001b[0;34m]\u001b[0m \u001b[0;34m=\u001b[0m \u001b[0mnp\u001b[0m\u001b[0;34m.\u001b[0m\u001b[0mdot\u001b[0m\u001b[0;34m(\u001b[0m\u001b[0mw\u001b[0m\u001b[0;34m[\u001b[0m\u001b[0mi\u001b[0m\u001b[0;34m-\u001b[0m\u001b[0;36m1\u001b[0m\u001b[0;34m]\u001b[0m\u001b[0;34m,\u001b[0m \u001b[0mparams\u001b[0m\u001b[0;34m.\u001b[0m\u001b[0mact_fn\u001b[0m\u001b[0;34m(\u001b[0m\u001b[0mx\u001b[0m\u001b[0;34m[\u001b[0m\u001b[0mi\u001b[0m\u001b[0;34m-\u001b[0m\u001b[0;36m1\u001b[0m\u001b[0;34m]\u001b[0m\u001b[0;34m)\u001b[0m\u001b[0;34m)\u001b[0m \u001b[0;34m+\u001b[0m \u001b[0mb\u001b[0m\u001b[0;34m[\u001b[0m\u001b[0mi\u001b[0m\u001b[0;34m-\u001b[0m\u001b[0;36m1\u001b[0m\u001b[0;34m]\u001b[0m\u001b[0;34m\u001b[0m\u001b[0;34m\u001b[0m\u001b[0m\n\u001b[0m\u001b[1;32m     10\u001b[0m     \u001b[0mx_output\u001b[0m\u001b[0;34m[\u001b[0m\u001b[0;34m:\u001b[0m\u001b[0;34m,\u001b[0m\u001b[0mits\u001b[0m\u001b[0;34m]\u001b[0m \u001b[0;34m=\u001b[0m \u001b[0mx\u001b[0m\u001b[0;34m[\u001b[0m\u001b[0mparams\u001b[0m\u001b[0;34m.\u001b[0m\u001b[0mN_layers\u001b[0m\u001b[0;34m]\u001b[0m\u001b[0;34m\u001b[0m\u001b[0;34m\u001b[0m\u001b[0m\n\u001b[1;32m     11\u001b[0m   \u001b[0;32mreturn\u001b[0m \u001b[0mrmse\u001b[0m\u001b[0;34m(\u001b[0m\u001b[0mout\u001b[0m\u001b[0;34m,\u001b[0m \u001b[0mx_output\u001b[0m\u001b[0;34m)\u001b[0m\u001b[0;34m\u001b[0m\u001b[0;34m\u001b[0m\u001b[0m\n",
            "\u001b[0;31mValueError\u001b[0m: operands could not be broadcast together with shapes (5,) (5,2) "
          ]
        }
      ]
    },
    {
      "cell_type": "code",
      "metadata": {
        "id": "IN5kGwmeXjw2",
        "colab_type": "code",
        "colab": {
          "base_uri": "https://localhost:8080/",
          "height": 215
        },
        "outputId": "adeafeca-55d5-43e4-ed3e-2e5ba6e879e0"
      },
      "source": [
        "t = params.act_fn\n",
        "print(t)\n",
        "print(t(5))"
      ],
      "execution_count": 43,
      "outputs": [
        {
          "output_type": "stream",
          "text": [
            "<bound method tanh of <__main__.Params object at 0x7f46ea33d908>>\n"
          ],
          "name": "stdout"
        },
        {
          "output_type": "error",
          "ename": "TypeError",
          "evalue": "ignored",
          "traceback": [
            "\u001b[0;31m---------------------------------------------------------------------------\u001b[0m",
            "\u001b[0;31mTypeError\u001b[0m                                 Traceback (most recent call last)",
            "\u001b[0;32m<ipython-input-43-89906b7a9d0f>\u001b[0m in \u001b[0;36m<module>\u001b[0;34m()\u001b[0m\n\u001b[1;32m      1\u001b[0m \u001b[0mt\u001b[0m \u001b[0;34m=\u001b[0m \u001b[0mparams\u001b[0m\u001b[0;34m.\u001b[0m\u001b[0mact_fn\u001b[0m\u001b[0;34m\u001b[0m\u001b[0;34m\u001b[0m\u001b[0m\n\u001b[1;32m      2\u001b[0m \u001b[0mprint\u001b[0m\u001b[0;34m(\u001b[0m\u001b[0mt\u001b[0m\u001b[0;34m)\u001b[0m\u001b[0;34m\u001b[0m\u001b[0;34m\u001b[0m\u001b[0m\n\u001b[0;32m----> 3\u001b[0;31m \u001b[0mprint\u001b[0m\u001b[0;34m(\u001b[0m\u001b[0mt\u001b[0m\u001b[0;34m(\u001b[0m\u001b[0;36m5\u001b[0m\u001b[0;34m)\u001b[0m\u001b[0;34m)\u001b[0m\u001b[0;34m\u001b[0m\u001b[0;34m\u001b[0m\u001b[0m\n\u001b[0m",
            "\u001b[0;31mTypeError\u001b[0m: tanh() takes 1 positional argument but 2 were given"
          ]
        }
      ]
    },
    {
      "cell_type": "code",
      "metadata": {
        "id": "-_u1PKh3XxQ1",
        "colab_type": "code",
        "colab": {}
      },
      "source": [
        ""
      ],
      "execution_count": 0,
      "outputs": []
    }
  ]
}